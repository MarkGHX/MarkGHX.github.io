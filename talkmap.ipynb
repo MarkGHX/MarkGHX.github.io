{
 "cells": [
  {
   "cell_type": "markdown",
   "metadata": {},
   "source": [
    "# Leaflet cluster map of talk locations\n",
    "\n",
    "Run this from the _talks/ directory, which contains .md files of all your talks. This scrapes the location YAML field from each .md file, geolocates it with geopy/Nominatim, and uses the getorg library to output data, HTML, and Javascript for a standalone cluster map."
   ]
  },
  {
   "cell_type": "code",
   "execution_count": 9,
   "metadata": {
    "collapsed": false
   },
   "outputs": [
    {
     "name": "stdout",
     "output_type": "stream",
     "text": [
      "Requirement already satisfied: getorg in c:\\users\\hanxi guo\\appdata\\local\\programs\\python\\python38\\lib\\site-packages (0.3.1)\n",
      "Requirement already satisfied: pygithub in c:\\users\\hanxi guo\\appdata\\local\\programs\\python\\python38\\lib\\site-packages (from getorg) (1.55)\n",
      "Requirement already satisfied: geopy in c:\\users\\hanxi guo\\appdata\\local\\programs\\python\\python38\\lib\\site-packages (from getorg) (2.2.0)\n",
      "Requirement already satisfied: retrying in c:\\users\\hanxi guo\\appdata\\local\\programs\\python\\python38\\lib\\site-packages (from getorg) (1.3.3)\n",
      "Requirement already satisfied: geographiclib<2,>=1.49 in c:\\users\\hanxi guo\\appdata\\local\\programs\\python\\python38\\lib\\site-packages (from geopy->getorg) (1.52)\n",
      "Requirement already satisfied: deprecated in c:\\users\\hanxi guo\\appdata\\local\\programs\\python\\python38\\lib\\site-packages (from pygithub->getorg) (1.2.13)\n",
      "Requirement already satisfied: pyjwt>=2.0 in c:\\users\\hanxi guo\\appdata\\local\\programs\\python\\python38\\lib\\site-packages (from pygithub->getorg) (2.3.0)\n",
      "Requirement already satisfied: requests>=2.14.0 in c:\\users\\hanxi guo\\appdata\\local\\programs\\python\\python38\\lib\\site-packages (from pygithub->getorg) (2.26.0)\n",
      "Requirement already satisfied: pynacl>=1.4.0 in c:\\users\\hanxi guo\\appdata\\local\\programs\\python\\python38\\lib\\site-packages (from pygithub->getorg) (1.4.0)\n",
      "Requirement already satisfied: six in c:\\users\\hanxi guo\\appdata\\local\\programs\\python\\python38\\lib\\site-packages (from pynacl>=1.4.0->pygithub->getorg) (1.16.0)\n",
      "Requirement already satisfied: cffi>=1.4.1 in c:\\users\\hanxi guo\\appdata\\local\\programs\\python\\python38\\lib\\site-packages (from pynacl>=1.4.0->pygithub->getorg) (1.15.0)\n",
      "Requirement already satisfied: pycparser in c:\\users\\hanxi guo\\appdata\\local\\programs\\python\\python38\\lib\\site-packages (from cffi>=1.4.1->pynacl>=1.4.0->pygithub->getorg) (2.21)\n",
      "Requirement already satisfied: charset-normalizer~=2.0.0 in c:\\users\\hanxi guo\\appdata\\local\\programs\\python\\python38\\lib\\site-packages (from requests>=2.14.0->pygithub->getorg) (2.0.9)\n",
      "Requirement already satisfied: certifi>=2017.4.17 in c:\\users\\hanxi guo\\appdata\\local\\programs\\python\\python38\\lib\\site-packages (from requests>=2.14.0->pygithub->getorg) (2021.10.8)\n",
      "Requirement already satisfied: urllib3<1.27,>=1.21.1 in c:\\users\\hanxi guo\\appdata\\local\\programs\\python\\python38\\lib\\site-packages (from requests>=2.14.0->pygithub->getorg) (1.26.7)\n",
      "Requirement already satisfied: idna<4,>=2.5 in c:\\users\\hanxi guo\\appdata\\local\\programs\\python\\python38\\lib\\site-packages (from requests>=2.14.0->pygithub->getorg) (3.3)\n",
      "Requirement already satisfied: wrapt<2,>=1.10 in c:\\users\\hanxi guo\\appdata\\local\\programs\\python\\python38\\lib\\site-packages (from deprecated->pygithub->getorg) (1.13.3)\n"
     ]
    },
    {
     "name": "stderr",
     "output_type": "stream",
     "text": [
      "WARNING: You are using pip version 21.1.1; however, version 21.3.1 is available.\n",
      "You should consider upgrading via the 'c:\\users\\hanxi guo\\appdata\\local\\programs\\python\\python38\\python.exe -m pip install --upgrade pip' command.\n"
     ]
    }
   ],
   "source": [
    "!pip install getorg --upgrade\n",
    "import glob\n",
    "import getorg\n",
    "from geopy import Nominatim"
   ]
  },
  {
   "cell_type": "code",
   "execution_count": 17,
   "metadata": {
    "collapsed": false
   },
   "outputs": [
    {
     "name": "stdout",
     "output_type": "stream",
     "text": [
      "['_talks\\\\mindspore2021.md', '_talks\\\\sjtu2021.md']\n"
     ]
    }
   ],
   "source": [
    "g = glob.glob(\"_talks/*.md\")\n",
    "print(g)"
   ]
  },
  {
   "cell_type": "code",
   "execution_count": 18,
   "metadata": {
    "collapsed": true
   },
   "outputs": [],
   "source": [
    "geocoder = Nominatim(user_agent=\"http\")\n",
    "location_dict = {}\n",
    "location = \"\"\n",
    "permalink = \"\"\n",
    "title = \"\""
   ]
  },
  {
   "cell_type": "code",
   "execution_count": 21,
   "metadata": {
    "collapsed": false
   },
   "outputs": [
    {
     "name": "stdout",
     "output_type": "stream",
     "text": [
      "Shanghai, China \n",
      " 上海市, 黄浦区, 上海市, 200001, 中国\n",
      "Shanghai, China \n",
      " 上海市, 黄浦区, 上海市, 200001, 中国\n"
     ]
    }
   ],
   "source": [
    "\n",
    "for file in g:\n",
    "    with open(file, 'r', encoding='UTF-8') as f:\n",
    "        lines = f.read()\n",
    "        if lines.find('location: \"') > 1:\n",
    "            loc_start = lines.find('location: \"') + 11\n",
    "            lines_trim = lines[loc_start:]\n",
    "            loc_end = lines_trim.find('\"')\n",
    "            location = lines_trim[:loc_end]\n",
    "                            \n",
    "           \n",
    "        location_dict[location] = geocoder.geocode(location)\n",
    "        print(location, \"\\n\", location_dict[location])\n"
   ]
  },
  {
   "cell_type": "code",
   "execution_count": 25,
   "metadata": {
    "collapsed": false
   },
   "outputs": [
    {
     "data": {
      "text/plain": [
       "'Written map to talkmap/'"
      ]
     },
     "execution_count": 25,
     "metadata": {},
     "output_type": "execute_result"
    }
   ],
   "source": [
    "m = getorg.orgmap.create_map_obj()\n",
    "getorg.orgmap.output_html_cluster_map(location_dict, folder_name=\"talkmap\", hashed_usernames=False)"
   ]
  },
  {
   "cell_type": "code",
   "execution_count": null,
   "metadata": {
    "collapsed": true
   },
   "outputs": [],
   "source": []
  }
 ],
 "metadata": {
  "anaconda-cloud": {},
  "kernelspec": {
   "display_name": "Python [Root]",
   "language": "python",
   "name": "Python [Root]"
  },
  "language_info": {
   "codemirror_mode": {
    "name": "ipython",
    "version": 3
   },
   "file_extension": ".py",
   "mimetype": "text/x-python",
   "name": "python",
   "nbconvert_exporter": "python",
   "pygments_lexer": "ipython3",
   "version": "3.5.2"
  }
 },
 "nbformat": 4,
 "nbformat_minor": 0
}
